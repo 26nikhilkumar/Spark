{
 "cells": [
  {
   "cell_type": "code",
   "execution_count": 1,
   "metadata": {},
   "outputs": [],
   "source": [
    "from pyspark.sql import SparkSession\n",
    "from pyspark.sql.types import StructType, StructField, StringType, IntegerType\n",
    "\n",
    "spark = SparkSession.builder.master(\"local[*]\")\\\n",
    "                    .appName(\"read_csv2\")\\\n",
    "                    .getOrCreate()"
   ]
  },
  {
   "cell_type": "code",
   "execution_count": 2,
   "metadata": {},
   "outputs": [],
   "source": [
    "my_schema = StructType(\n",
    "                    [\n",
    "                        StructField(\"DESTINATION_COUNTRY_NAME\",StringType(), True),\n",
    "                        StructField(\"ORIGIN_COUNTRY_NAME\",StringType(), True),\n",
    "                        StructField(\"COUNT\",IntegerType(),True)   \n",
    "                    ]\n",
    "                )\n"
   ]
  },
  {
   "cell_type": "code",
   "execution_count": 3,
   "metadata": {},
   "outputs": [],
   "source": [
    "# MODE : PERMISSIVE (fills missing values with null)\n",
    "from pyspark.sql.functions import monotonically_increasing_id\n",
    "flight_df = spark.read.format(\"csv\") \\\n",
    "                .option(\"header\", \"false\") \\\n",
    "                .schema(my_schema)\\\n",
    "                .option(\"inferSchema\", \"false\") \\\n",
    "                .option(\"mode\",\"PERMISSIVE\")\\\n",
    "                .load(\"flight_data.csv\")\n",
    "\n",
    "# to remove first n rows by adding an extra column using row_number\n",
    "flight_df = flight_df.withColumn(\"row_id\", monotonically_increasing_id())\n",
    "flight_df = flight_df.filter(flight_df.row_id >= 1).drop(\"row_id\")\n",
    "                "
   ]
  },
  {
   "cell_type": "code",
   "execution_count": 4,
   "metadata": {},
   "outputs": [
    {
     "name": "stdout",
     "output_type": "stream",
     "text": [
      "+------------------------+-------------------+-----+\n",
      "|DESTINATION_COUNTRY_NAME|ORIGIN_COUNTRY_NAME|COUNT|\n",
      "+------------------------+-------------------+-----+\n",
      "|           United States|            Romania|    1|\n",
      "|           United States|            Ireland|  264|\n",
      "|           United States|              India|   69|\n",
      "|                   Egypt|      United States|   24|\n",
      "|       Equatorial Guinea|      United States|    1|\n",
      "+------------------------+-------------------+-----+\n",
      "only showing top 5 rows\n",
      "\n"
     ]
    }
   ],
   "source": [
    "flight_df.show(5)"
   ]
  },
  {
   "cell_type": "code",
   "execution_count": 5,
   "metadata": {},
   "outputs": [],
   "source": [
    "# MODE : DROPMALFORMED (drops rows that are malformed)\n",
    "flight_df = spark.read.format(\"csv\")\\\n",
    "                .option(\"header\",\"false\")\\\n",
    "                .option(\"skipFirstRows\",1)\\\n",
    "                .option(\"infershema\",\"false\")\\\n",
    "                .schema(my_schema)\\\n",
    "                .option(\"mode\",\"DROPMALFORMED\")\\\n",
    "                .load(\"flight_data.csv\")"
   ]
  },
  {
   "cell_type": "code",
   "execution_count": 12,
   "metadata": {},
   "outputs": [],
   "source": [
    "# MODE : FAILFAST (default mode, fails immediately when got malformed records or missing schema)\n",
    "flight_df2 = spark.read.format(\"csv\") \\\n",
    "                .option(\"header\", \"false\") \\\n",
    "                .option(\"inferSchema\", \"false\") \\\n",
    "                .option(\"mode\",\"FAILFAST\")\\\n",
    "                .load(\"flight_data.csv\")\n"
   ]
  },
  {
   "cell_type": "code",
   "execution_count": 13,
   "metadata": {},
   "outputs": [
    {
     "name": "stdout",
     "output_type": "stream",
     "text": [
      "+-----------------+-------------------+-----+\n",
      "|              _c0|                _c1|  _c2|\n",
      "+-----------------+-------------------+-----+\n",
      "|DEST_COUNTRY_NAME|ORIGIN_COUNTRY_NAME|count|\n",
      "|    United States|            Romania|    1|\n",
      "|    United States|            Ireland|  264|\n",
      "|    United States|              India|   69|\n",
      "|            Egypt|      United States|   24|\n",
      "+-----------------+-------------------+-----+\n",
      "only showing top 5 rows\n",
      "\n"
     ]
    }
   ],
   "source": [
    "flight_df2.show(5)"
   ]
  },
  {
   "cell_type": "code",
   "execution_count": null,
   "metadata": {},
   "outputs": [],
   "source": []
  }
 ],
 "metadata": {
  "kernelspec": {
   "display_name": "Python 3",
   "language": "python",
   "name": "python3"
  },
  "language_info": {
   "codemirror_mode": {
    "name": "ipython",
    "version": 3
   },
   "file_extension": ".py",
   "mimetype": "text/x-python",
   "name": "python",
   "nbconvert_exporter": "python",
   "pygments_lexer": "ipython3",
   "version": "3.9.13"
  }
 },
 "nbformat": 4,
 "nbformat_minor": 2
}
